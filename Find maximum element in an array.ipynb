{
 "cells": [
  {
   "cell_type": "code",
   "execution_count": 14,
   "id": "bbdaf2b0",
   "metadata": {},
   "outputs": [
    {
     "name": "stdout",
     "output_type": "stream",
     "text": [
      "[64, 13, 55, 36, 74, 51, 62, 41, 24, 40, 86, 57, 24, 16, 92, 87, 84, 10, 97, 34, 87, 14, 68, 91, 2, 85, 64, 96, 10, 39, 2, 86, 13, 21, 37, 67, 30, 68, 52, 22, 60, 46, 50, 85, 35, 3, 51, 20, 77, 48, 21, 80, 13, 97, 60, 32, 43, 35, 40, 39, 65, 94, 67, 62, 43, 77, 48, 90, 71, 95, 96, 7, 76, 55, 14, 1, 86, 89, 56, 23, 38, 74, 73, 40, 81, 7, 75, 1, 77, 74, 85, 34, 49, 26, 79, 17, 43, 24, 66]\n"
     ]
    }
   ],
   "source": [
    "import random\n",
    "random.seed(401)\n",
    "a = []\n",
    "for i in range(1,100):\n",
    "    a.append(random.randint(1,100))\n",
    "print(a)"
   ]
  },
  {
   "cell_type": "code",
   "execution_count": 15,
   "id": "7d75c3d4",
   "metadata": {},
   "outputs": [
    {
     "name": "stdout",
     "output_type": "stream",
     "text": [
      "97\n"
     ]
    }
   ],
   "source": [
    "#Find the maximum element in an list\n",
    "max_num = 0\n",
    "for i in a:\n",
    "    if i > max_num:\n",
    "        max_num = i\n",
    "print(max_num)\n"
   ]
  },
  {
   "cell_type": "code",
   "execution_count": 18,
   "id": "87c2d614",
   "metadata": {},
   "outputs": [
    {
     "name": "stdout",
     "output_type": "stream",
     "text": [
      "97\n"
     ]
    }
   ],
   "source": [
    "#Python perks😉\n",
    "print(max(a))"
   ]
  },
  {
   "cell_type": "code",
   "execution_count": null,
   "id": "eb722ca9",
   "metadata": {},
   "outputs": [],
   "source": []
  }
 ],
 "metadata": {
  "kernelspec": {
   "display_name": "Python 3",
   "language": "python",
   "name": "python3"
  },
  "language_info": {
   "codemirror_mode": {
    "name": "ipython",
    "version": 3
   },
   "file_extension": ".py",
   "mimetype": "text/x-python",
   "name": "python",
   "nbconvert_exporter": "python",
   "pygments_lexer": "ipython3",
   "version": "3.8.8"
  }
 },
 "nbformat": 4,
 "nbformat_minor": 5
}
