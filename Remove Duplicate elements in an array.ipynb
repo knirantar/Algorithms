{
 "cells": [
  {
   "cell_type": "code",
   "execution_count": 7,
   "id": "8d58f38e",
   "metadata": {},
   "outputs": [
    {
     "name": "stdout",
     "output_type": "stream",
     "text": [
      "[64, 13, 55, 36, 74, 51, 62, 41, 24, 40, 86, 57, 24, 16, 92, 87, 84, 10, 97, 34, 87, 14, 68, 91, 2, 85, 64, 96, 10, 39, 2, 86, 13, 21, 37, 67, 30, 68, 52, 22, 60, 46, 50, 85, 35, 3, 51, 20, 77, 48, 21, 80, 13, 97, 60, 32, 43, 35, 40, 39, 65, 94, 67, 62, 43, 77, 48, 90, 71, 95, 96, 7, 76, 55, 14, 1, 86, 89, 56, 23, 38, 74, 73, 40, 81, 7, 75, 1, 77, 74, 85, 34, 49, 26, 79, 17, 43, 24, 66]\n"
     ]
    }
   ],
   "source": [
    "import random\n",
    "random.seed(401)\n",
    "a = []\n",
    "for i in range(1,100):\n",
    "    a.append(random.randint(1,100))\n",
    "print(a)"
   ]
  },
  {
   "cell_type": "code",
   "execution_count": 23,
   "id": "7d8d6c7b",
   "metadata": {},
   "outputs": [
    {
     "name": "stdout",
     "output_type": "stream",
     "text": [
      "[64, 13, 55, 36, 74, 51, 62, 41, 24, 40, 86, 57, 16, 92, 87, 84, 10, 97, 34, 14, 68, 91, 2, 85, 96, 39, 21, 37, 67, 30, 52, 22, 60, 46, 50, 35, 3, 20, 77, 48, 80, 32, 43, 65, 94, 90, 71, 95, 7, 76, 1, 89, 56, 23, 38, 73, 81, 75, 49, 26, 79, 17, 66]\n",
      "[64, 13, 55, 36, 74, 51, 62, 41, 24, 40, 86, 57, 16, 92, 87, 84, 10, 97, 34, 14, 68, 91, 2, 85, 96, 39, 21, 37, 67, 30, 52, 22, 60, 46, 50, 35, 3, 20, 77, 48, 80, 32, 43, 65, 94, 90, 71, 95, 7, 76, 1, 89, 56, 23, 38, 73, 81, 75, 49, 26, 79, 17, 66]\n"
     ]
    }
   ],
   "source": [
    "#Ordering maintained with removal of duplicate elements\n",
    "res = []\n",
    "for i in a:\n",
    "    if i not in res:\n",
    "        res.append(i)\n",
    "print(res)\n",
    "\n",
    "\n",
    "#List comprehension\n",
    "res2 = []\n",
    "[res2.append(i) for i in a if i not in res2]\n",
    "print(res2)"
   ]
  },
  {
   "cell_type": "code",
   "execution_count": 24,
   "id": "2f40cf6b",
   "metadata": {},
   "outputs": [
    {
     "name": "stdout",
     "output_type": "stream",
     "text": [
      "[1, 2, 3, 7, 10, 13, 14, 16, 17, 20, 21, 22, 23, 24, 26, 30, 32, 34, 35, 36, 37, 38, 39, 40, 41, 43, 46, 48, 49, 50, 51, 52, 55, 56, 57, 60, 62, 64, 65, 66, 67, 68, 71, 73, 74, 75, 76, 77, 79, 80, 81, 84, 85, 86, 87, 89, 90, 91, 92, 94, 95, 96, 97]\n"
     ]
    }
   ],
   "source": [
    "#Python perks - but ordering gets lost\n",
    "b = set(a)\n",
    "b = list(b)\n",
    "print(b)"
   ]
  },
  {
   "cell_type": "code",
   "execution_count": null,
   "id": "f6b1672e",
   "metadata": {},
   "outputs": [],
   "source": []
  }
 ],
 "metadata": {
  "kernelspec": {
   "display_name": "Python 3",
   "language": "python",
   "name": "python3"
  },
  "language_info": {
   "codemirror_mode": {
    "name": "ipython",
    "version": 3
   },
   "file_extension": ".py",
   "mimetype": "text/x-python",
   "name": "python",
   "nbconvert_exporter": "python",
   "pygments_lexer": "ipython3",
   "version": "3.8.8"
  }
 },
 "nbformat": 4,
 "nbformat_minor": 5
}
